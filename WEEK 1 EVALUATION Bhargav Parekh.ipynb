{
 "cells": [
  {
   "cell_type": "markdown",
   "metadata": {},
   "source": [
    "Question 1\n",
    ".\n",
    "Create a list of integers from range 1 to 20"
   ]
  },
  {
   "cell_type": "code",
   "execution_count": 4,
   "metadata": {},
   "outputs": [
    {
     "name": "stdout",
     "output_type": "stream",
     "text": [
      "[1, 2, 3, 4, 5, 6, 7, 8, 9, 10, 11, 12, 13, 14, 15, 16, 17, 18, 19, 20]\n"
     ]
    }
   ],
   "source": [
    "numberList = []\n",
    "for i in range(1,21):\n",
    "    numberList.append(i)\n",
    "\n",
    "print(numberList)\n"
   ]
  },
  {
   "cell_type": "markdown",
   "metadata": {},
   "source": [
    "Question 2 Create an array with dimension 4*5 (4 rows and 5 columns)"
   ]
  },
  {
   "cell_type": "code",
   "execution_count": 23,
   "metadata": {},
   "outputs": [
    {
     "data": {
      "text/plain": [
       "array([[0, 0, 0, 0, 0],\n",
       "       [0, 0, 0, 0, 0],\n",
       "       [0, 0, 0, 0, 0],\n",
       "       [0, 0, 0, 0, 0]])"
      ]
     },
     "execution_count": 23,
     "metadata": {},
     "output_type": "execute_result"
    }
   ],
   "source": [
    "import numpy as np\n",
    "from random import randrange\n",
    "\n",
    "mdArray = np.zeros((4,5), dtype=np.int)\n",
    "mdArray"
   ]
  },
  {
   "cell_type": "markdown",
   "metadata": {},
   "source": [
    "Calculate the sum and mean of the array in Q2"
   ]
  },
  {
   "cell_type": "code",
   "execution_count": 25,
   "metadata": {},
   "outputs": [
    {
     "data": {
      "text/plain": [
       "array([[6, 1, 1, 3, 4],\n",
       "       [3, 4, 9, 4, 1],\n",
       "       [6, 0, 4, 4, 9],\n",
       "       [1, 3, 5, 6, 1]])"
      ]
     },
     "execution_count": 25,
     "metadata": {},
     "output_type": "execute_result"
    }
   ],
   "source": [
    "for i in range(len(mdArray)):\n",
    "    for j in range(len(mdArray[i])):\n",
    "        mdArray[i][j] = randrange(10)\n",
    "\n",
    "mdArray"
   ]
  },
  {
   "cell_type": "code",
   "execution_count": 26,
   "metadata": {},
   "outputs": [
    {
     "name": "stdout",
     "output_type": "stream",
     "text": [
      "sum of numbers: 75\n",
      "mean of numbers: 3.75\n"
     ]
    }
   ],
   "source": [
    "sum = 0\n",
    "mean = 0\n",
    "for i in range(len(mdArray)):\n",
    "    for j in range(len(mdArray[i])):\n",
    "        sum = sum + mdArray[i][j]\n",
    "\n",
    "print(\"sum of numbers: \" + str(sum))\n",
    "mean = sum/20\n",
    "print(\"mean of numbers: \" + str(mean))"
   ]
  },
  {
   "cell_type": "markdown",
   "metadata": {},
   "source": [
    "Quesiton 3 Compare if string ‘abc’ is equal to string ‘abf’, should give False"
   ]
  },
  {
   "cell_type": "code",
   "execution_count": 28,
   "metadata": {},
   "outputs": [
    {
     "name": "stdout",
     "output_type": "stream",
     "text": [
      "False\n"
     ]
    }
   ],
   "source": [
    "string1 = 'abc'\n",
    "string2 = 'abf'\n",
    "print(string1 == string2)"
   ]
  },
  {
   "cell_type": "markdown",
   "metadata": {},
   "source": [
    "Question 5\n",
    "Create an empty list x and append 3 numbers: 5,9,\n",
    " -1 on the list and then combine another list\n",
    "y=[800,200] into one single list, then calculate the standard deviation of the list"
   ]
  },
  {
   "cell_type": "code",
   "execution_count": 41,
   "metadata": {},
   "outputs": [
    {
     "name": "stdout",
     "output_type": "stream",
     "text": [
      "standard deviation of list: 344.55522053801474\n"
     ]
    }
   ],
   "source": [
    "import statistics\n",
    "x = []\n",
    "x.append(5)\n",
    "x.append(9)\n",
    "x.append(-1)\n",
    "\n",
    "y = []\n",
    "y.append(800)\n",
    "y.append(200)\n",
    "x = x + y\n",
    "x\n",
    "print (\"standard deviation of list: %s\" % str(statistics.stdev(x)))"
   ]
  },
  {
   "cell_type": "markdown",
   "metadata": {},
   "source": [
    "Write a python function with name get_sum, the input is the N integers, the output should be\n",
    "the sum of them"
   ]
  },
  {
   "cell_type": "code",
   "execution_count": 42,
   "metadata": {},
   "outputs": [
    {
     "name": "stdout",
     "output_type": "stream",
     "text": [
      "Enter a list numbers or elements separated by space: 1 3 5 7 9 0 8 6 4 5 3 2 3 4 \n",
      "60\n"
     ]
    }
   ],
   "source": [
    "def get_sum(listOfNumbers):\n",
    "    sum = 0\n",
    "    for i in listOfNumbers:\n",
    "        sum += int(i)\n",
    "    \n",
    "    return sum\n",
    "\n",
    "\n",
    "input_string = input(\"Enter a list numbers or elements separated by space: \")\n",
    "userList = input_string.split()\n",
    "print(get_sum(userList))"
   ]
  },
  {
   "cell_type": "code",
   "execution_count": null,
   "metadata": {},
   "outputs": [],
   "source": []
  }
 ],
 "metadata": {
  "kernelspec": {
   "display_name": "Python 3",
   "language": "python",
   "name": "python3"
  },
  "language_info": {
   "codemirror_mode": {
    "name": "ipython",
    "version": 3
   },
   "file_extension": ".py",
   "mimetype": "text/x-python",
   "name": "python",
   "nbconvert_exporter": "python",
   "pygments_lexer": "ipython3",
   "version": "3.7.3"
  }
 },
 "nbformat": 4,
 "nbformat_minor": 2
}
